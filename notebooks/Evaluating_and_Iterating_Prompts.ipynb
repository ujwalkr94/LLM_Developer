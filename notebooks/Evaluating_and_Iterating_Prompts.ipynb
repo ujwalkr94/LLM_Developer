{
  "cells": [
    {
      "cell_type": "markdown",
      "metadata": {
        "id": "PnlSNC-1YLEY"
      },
      "source": [
        "[![Open in Colab](https://colab.research.google.com/assets/colab-badge.svg)](https://colab.research.google.com/github/towardsai/ai-tutor-rag-system/blob/main/notebooks/Evaluating_and_Iterating_Prompts.ipynb)"
      ]
    },
    {
      "cell_type": "markdown",
      "metadata": {
        "id": "_0uFIE3nYnqs"
      },
      "source": [
        "### Installing Necessary packages"
      ]
    },
    {
      "cell_type": "code",
      "execution_count": 1,
      "metadata": {
        "collapsed": true,
        "id": "RpCDuBbpa41t"
      },
      "outputs": [],
      "source": [
        "!pip install -q openai google-generativeai"
      ]
    },
    {
      "cell_type": "code",
      "execution_count": 2,
      "metadata": {
        "id": "KRqtrsMQYsuD"
      },
      "outputs": [],
      "source": [
        "import os\n",
        "\n",
        "# Set the following API Keys in the Python environment. Will be used later.\n",
        "os.environ[\"OPENAI_API_KEY\"] = \"\"\n",
        "\n",
        "\n",
        "# from google.colab import userdata\n",
        "# os.environ[\"OPENAI_API_KEY\"] = userdata.get('OPENAI_API_KEY1')"
      ]
    },
    {
      "cell_type": "code",
      "execution_count": 3,
      "metadata": {
        "id": "sgGQUCbXZLaf"
      },
      "outputs": [],
      "source": [
        "# Allows running asyncio in environments with an existing event loop in the notebook\n",
        "\n",
        "import nest_asyncio\n",
        "\n",
        "nest_asyncio.apply()"
      ]
    },
    {
      "cell_type": "markdown",
      "metadata": {
        "id": "Z2eMMueuZMRa"
      },
      "source": [
        "### Response Generation Using GPT-4o"
      ]
    },
    {
      "cell_type": "code",
      "execution_count": 4,
      "metadata": {
        "id": "RHS9vut2ZOEj"
      },
      "outputs": [],
      "source": [
        "from openai import OpenAI\n",
        "client = OpenAI()"
      ]
    },
    {
      "cell_type": "code",
      "execution_count": 5,
      "metadata": {
        "colab": {
          "base_uri": "https://localhost:8080/"
        },
        "id": "uKF4ugsCcRf-",
        "outputId": "7c58be97-d258-4246-e1b0-29730e4d17e0"
      },
      "outputs": [
        {
          "name": "stdout",
          "output_type": "stream",
          "text": [
            "```\n",
            "Company          | Foundation Year\n",
            "-----------------|----------------\n",
            "Pfizer           | 1849\n",
            "Johnson & Johnson| 1886\n",
            "Roche            | 1896\n",
            "Novartis         | 1996\n",
            "Merck & Co.      | 1891\n",
            "```\n"
          ]
        }
      ],
      "source": [
        "prompt_generation = \"\"\"\n",
        "Generate a table with the 5 most popular pharmaceutical companies and their foundation years.\n",
        "The response should include only the table, with no additional text.\n",
        "Use the following example format:\n",
        "---\n",
        "Company | Foundation Year\n",
        "Microsoft | 1975\n",
        "Apple | 1976\n",
        "Google | 1998\n",
        "Amazon | 1994\n",
        "Meta | 2004\n",
        "---\"\"\"\n",
        "\n",
        "\n",
        "# Making the API call\n",
        "response = client.chat.completions.create(\n",
        "  model=\"gpt-4o-2024-08-06\",\n",
        "  messages=[\n",
        "    {\"role\": \"system\", \"content\": \"You are a helpful assistant.\"},\n",
        "    {\"role\": \"user\", \"content\": prompt_generation}\n",
        "  ]\n",
        ")\n",
        "generated_response = response.choices[0].message.content\n",
        "print(generated_response)"
      ]
    },
    {
      "cell_type": "markdown",
      "metadata": {
        "id": "hFjpETnkHrV8"
      },
      "source": [
        "### Format Checking with GPT-4o Model (GPT-4o will act as a Judge)"
      ]
    },
    {
      "cell_type": "code",
      "execution_count": 6,
      "metadata": {
        "colab": {
          "base_uri": "https://localhost:8080/"
        },
        "id": "SiW3vwKshVH8",
        "outputId": "643475ab-45bd-4d3f-d972-81781c358efe"
      },
      "outputs": [
        {
          "name": "stdout",
          "output_type": "stream",
          "text": [
            "No\n"
          ]
        }
      ],
      "source": [
        "prompt_check_table_new = \"\"\"Your task is to verify if a given table matches the exact format and structure of a provided example table.\n",
        "\n",
        "Here's an example of the format that the table should have:\n",
        "---\n",
        "Company | Foundation Year\n",
        "Microsoft | 1975\n",
        "Apple | 1976\n",
        "Google | 1998\n",
        "Amazon | 1994\n",
        "Meta | 2004\n",
        "---\n",
        "\n",
        "Table to Check:\n",
        "{table_to_check}\n",
        "\n",
        "Instructions:\n",
        "- The table to check should match the structure, headers, and format of the Example Table exactly.\n",
        "- The column names must be \"Company\" and \"Foundation Year\".\n",
        "- The values in each row should have the company names and their corresponding foundation years.\n",
        "- If the given table matches the example table in all these aspects, write \"Yes\".\n",
        "- Write \"No\" if there are any differences in structure, headers, or if any company/year is missing or incorrect.\n",
        "\n",
        "Only respond with \"Yes\" or \"No\".\n",
        "\n",
        "\"\"\"\n",
        "\n",
        "formatted_prompt = prompt_check_table_new.format(table_to_check=generated_response)\n",
        "\n",
        "\n",
        "# using LLM as a Judge to check the format\n",
        "response = client.chat.completions.create(\n",
        "  model=\"gpt-4o-2024-08-06\",\n",
        "  messages=[\n",
        "    {\"role\": \"system\", \"content\": \"You are a strict judge. Evaluate inputs based on the given criteria and provide only the required response\"},\n",
        "    {\"role\": \"user\", \"content\": formatted_prompt}\n",
        "  ],\n",
        "  temperature= 0\n",
        ")\n",
        "print(response.choices[0].message.content)"
      ]
    },
    {
      "cell_type": "code",
      "execution_count": 7,
      "metadata": {
        "colab": {
          "base_uri": "https://localhost:8080/"
        },
        "id": "BTn7Ge6V4Om3",
        "outputId": "7263fdf5-da3e-463b-e203-5b357a0ee8dd"
      },
      "outputs": [
        {
          "name": "stdout",
          "output_type": "stream",
          "text": [
            "Your task is to verify if a given table matches the exact format and structure of a provided example table.\n",
            "\n",
            "Here's an example of the format that the table should have:\n",
            "---\n",
            "Company | Foundation Year\n",
            "Microsoft | 1975\n",
            "Apple | 1976\n",
            "Google | 1998\n",
            "Amazon | 1994\n",
            "Meta | 2004\n",
            "---\n",
            "\n",
            "Table to Check:\n",
            "```\n",
            "Company          | Foundation Year\n",
            "-----------------|----------------\n",
            "Pfizer           | 1849\n",
            "Johnson & Johnson| 1886\n",
            "Roche            | 1896\n",
            "Novartis         | 1996\n",
            "Merck & Co.      | 1891\n",
            "```\n",
            "\n",
            "Instructions:\n",
            "- The table to check should match the structure, headers, and format of the Example Table exactly.\n",
            "- The column names must be \"Company\" and \"Foundation Year\".\n",
            "- The values in each row should have the company names and their corresponding foundation years.\n",
            "- If the given table matches the example table in all these aspects, write \"Yes\".\n",
            "- Write \"No\" if there are any differences in structure, headers, or if any company/year is missing or incorrect.\n",
            "\n",
            "Only respond with \"Yes\" or \"No\".\n",
            "\n",
            "\n"
          ]
        }
      ],
      "source": [
        "print(formatted_prompt)"
      ]
    },
    {
      "cell_type": "code",
      "execution_count": 8,
      "metadata": {
        "id": "oLbGB9HSFvTT"
      },
      "outputs": [],
      "source": [
        "# Example Badly Formatted Table\n",
        "\n",
        "badly_formatted_table = \"\"\"\n",
        "Company | Foundation Year\n",
        "\n",
        "Microsoft | 1975\n",
        "\n",
        "Apple | 1976\n",
        "Google | 1998\n",
        "Amazon | 1994\n",
        "\n",
        "Meta | 2004\n",
        "\"\"\""
      ]
    },
    {
      "cell_type": "code",
      "execution_count": 9,
      "metadata": {
        "colab": {
          "base_uri": "https://localhost:8080/"
        },
        "id": "yVebrs01FltN",
        "outputId": "4cbaa0f0-5f5e-4ff4-85d8-f6d7780f9501"
      },
      "outputs": [
        {
          "name": "stdout",
          "output_type": "stream",
          "text": [
            "Yes\n"
          ]
        }
      ],
      "source": [
        "formatted_prompt = prompt_check_table_new.format(table_to_check=badly_formatted_table)\n",
        "\n",
        "\n",
        "# using LLM as a Judge to check the format\n",
        "response = client.chat.completions.create(\n",
        "  model=\"gpt-4o-2024-08-06\",\n",
        "  messages=[\n",
        "    {\"role\": \"system\", \"content\": \"You are a strict judge. Evaluate inputs based on the given criteria and provide only the required response\"},\n",
        "    {\"role\": \"user\", \"content\": formatted_prompt}\n",
        "  ],\n",
        "  temperature= 0\n",
        ")\n",
        "print(response.choices[0].message.content)"
      ]
    },
    {
      "cell_type": "markdown",
      "metadata": {
        "id": "Nv0-5bWgHmif"
      },
      "source": [
        "### GPT-4o Acting as a Judge to check the company types (Pharmacitical or not)"
      ]
    },
    {
      "cell_type": "code",
      "execution_count": 10,
      "metadata": {
        "colab": {
          "base_uri": "https://localhost:8080/"
        },
        "id": "DqU-oZZ8edsj",
        "outputId": "f94c1495-e296-4b08-ad3d-185487b76f62"
      },
      "outputs": [
        {
          "name": "stdout",
          "output_type": "stream",
          "text": [
            "Yes\n"
          ]
        }
      ],
      "source": [
        "prompt_check_company_type = \"\"\"\n",
        "Your task is to verify if a given table contains only companies from the pharmaceutical industry.\n",
        "\n",
        "Here's an example of the format that the table should have:\n",
        "---\n",
        "Company | Foundation Year\n",
        "Microsoft | 1975\n",
        "Apple | 1976\n",
        "Google | 1998\n",
        "Amazon | 1994\n",
        "Meta | 2004\n",
        "---\n",
        "\n",
        "Here's the table to check:\n",
        "{table_to_check}\n",
        "\n",
        "Instructions:\n",
        "- The table to check should include only companies from the pharmaceutical industry.\n",
        "- The column names will be \"Company\" and \"Foundation Year\".\n",
        "- Evaluate whether each company in the table is part of the pharmaceutical sector.\n",
        "- If all companies in the table are from the pharmaceutical industry, write \"Yes\".\n",
        "- Write \"No\" if any company in the table is not from the pharmaceutical industry.\n",
        "\n",
        "Only respond with \"Yes\" or \"No\".\n",
        "\n",
        "\"\"\"\n",
        "\n",
        "formatted_prompt_company_type = prompt_check_company_type.format(table_to_check=generated_response)\n",
        "\n",
        "# API Call\n",
        "response = client.chat.completions.create(\n",
        "  model=\"gpt-4o-2024-08-06\",\n",
        "  messages=[\n",
        "    {\"role\": \"system\", \"content\": \"You are a strict judge. Evaluate inputs based on the given criteria and provide only the required response\"},\n",
        "    {\"role\": \"user\", \"content\": formatted_prompt_company_type}\n",
        "  ],\n",
        "  temperature= 0\n",
        ")\n",
        "print(response.choices[0].message.content)"
      ]
    },
    {
      "cell_type": "code",
      "execution_count": 12,
      "metadata": {
        "colab": {
          "base_uri": "https://localhost:8080/"
        },
        "id": "437zfxeJnqcJ",
        "outputId": "9ff98564-dfa2-4a8d-c285-9b2ba0e3fd55"
      },
      "outputs": [
        {
          "name": "stdout",
          "output_type": "stream",
          "text": [
            "No\n"
          ]
        }
      ],
      "source": [
        "prompt_check_company_type = \"\"\"\n",
        "Your task is to verify if a given table contains only companies from the pharmaceutical industry.\n",
        "\n",
        "Here's an example of the format that the table should have:\n",
        "---\n",
        "Company | Foundation Year\n",
        "Microsoft | 1975\n",
        "Apple | 1976\n",
        "Google | 1998\n",
        "Amazon | 1994\n",
        "Meta | 2004\n",
        "---\n",
        "\n",
        "Here's the table to check:\n",
        "{table_to_check}\n",
        "\n",
        "Instructions:\n",
        "- The table to check should include only companies from the pharmaceutical industry.\n",
        "- The column names will be \"Company\" and \"Foundation Year\".\n",
        "- Evaluate whether each company in the table is part of the pharmaceutical sector.\n",
        "- If all companies in the table are from the pharmaceutical industry, write \"Yes\".\n",
        "- Write \"No\" if any company in the table is not from the pharmaceutical industry.\n",
        "\n",
        "Only respond with \"Yes\" or \"No\".\n",
        "\n",
        "\"\"\"\n",
        "\n",
        "formatted_prompt_company_type = prompt_check_company_type.format(table_to_check=badly_formatted_table)\n",
        "\n",
        "# API Call\n",
        "response = client.chat.completions.create(\n",
        "  model=\"gpt-4o-2024-08-06\",\n",
        "  messages=[\n",
        "    {\"role\": \"system\", \"content\": \"You are a strict judge. Evaluate inputs based on the given criteria and provide only the required response\"},\n",
        "    {\"role\": \"user\", \"content\": formatted_prompt_company_type}\n",
        "  ],\n",
        "  temperature= 0\n",
        ")\n",
        "print(response.choices[0].message.content)"
      ]
    },
    {
      "cell_type": "code",
      "execution_count": null,
      "metadata": {
        "id": "GX43bKl3YZVN"
      },
      "outputs": [],
      "source": []
    }
  ],
  "metadata": {
    "colab": {
      "provenance": []
    },
    "kernelspec": {
      "display_name": "Python 3",
      "name": "python3"
    },
    "language_info": {
      "name": "python"
    }
  },
  "nbformat": 4,
  "nbformat_minor": 0
}
